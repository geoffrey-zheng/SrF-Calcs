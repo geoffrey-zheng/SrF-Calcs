{
 "cells": [
  {
   "cell_type": "code",
   "execution_count": 12,
   "metadata": {},
   "outputs": [],
   "source": [
    "\"\"\"\n",
    "Analyze X-A push beam in-cell absorption data to confirm resonance frequency\n",
    "and look for N=1 hyperfine structure.\n",
    "\"\"\"\n",
    "\n",
    "import h5py\n",
    "import os\n",
    "import numpy as np\n",
    "\n",
    "\n",
    "#from entire hdf5 data file, initialize run names we care about\n",
    "absolute_path = os.path.abspath('')\n",
    "rel_path = \"log_2024Feb19.hdf\" # in cell absorption data for push beam\n",
    "filename = os.path.join(absolute_path, rel_path)\n",
    "run_names = ['run17:10:54', 'run17:18:36', 'run17:24:41', 'run17:29:53'] #run names we care about (first two EOM on ,second two EOM off)\n",
    "\n",
    "#open file and process data\n",
    "with h5py.File(filename, 'r') as hdf:\n",
    "    #dict1 is reduced dict of {run names : run data} only for runs we care about\n",
    "    dict1 = {key: hdf[key] for key in run_names if key in hdf} \n",
    "    runs = [None for _ in range(len(run_names))]\n",
    "    for key in dict1:\n",
    "        run = dict1[key]\n",
    "        num_images = len(run)\n",
    "        sorted_keys = sorted(run.keys(), key=int) #sort run keys by true numerical order (not \"string numerical\" order\")\n",
    "        \n",
    "        #run_shot is a list of the shots in each run in true numerical order. each shot is one absorption trace.\n",
    "        run_shot = [None for _ in range(num_images)]\n",
    "        for key2 in sorted_keys:\n",
    "            run_shot[int(key2)] = run[key2] \n",
    "\n",
    "        #extract data from runs (make list of lists of times and pd_voltages)\n",
    "        layers, rows, cols = num_images, 2, 500\n",
    "        run_data = [[[None for _ in range(cols)] for _ in range(rows)] for _ in range(layers)]\n",
    "\n",
    "        for i in range(num_images):\n",
    "            times, pd_voltages = zip(*run_shot[i])\n",
    "            run_data[i][0] = np.asarray(times)\n",
    "            run_data[i][1] = np.asarray(pd_voltages)\n",
    "        \n",
    "        runs[run_names.index(key)] = run_data \n",
    "\n",
    "    #dict2 is dict of {run names : runs} where runs is a list of 3D list containing all data for each shot (trace time and PD voltage)\n",
    "    dict2 = {key: runs for key in run_names} "
   ]
  },
  {
   "cell_type": "code",
   "execution_count": 42,
   "metadata": {},
   "outputs": [],
   "source": [
    "#go through dict2, analyze data, and extract absorption spectroscopy curves\n",
    "#the val of dict2 (runs) is a 3D list in the form [shot number][time or voltage][value]\n",
    "from matplotlib import axis\n",
    "import matplotlib.pyplot as plt\n",
    "\n",
    "#based on timing of push beam, the absorption dip should always be between 2 and 10 ms.\n",
    "#furthermore, the most relevant data is in the first 20 ms (when slowing occurs)\n",
    "#our signal will be the difference between the minimum value in the first 10 ms, and the average in the first 20 ms excluding t = 2 to t = 10 ms\n",
    "\n",
    "rows, cols = 2, len(run_names)\n",
    "absorption = [[None for _ in range(cols)] for _ in range(rows)]\n",
    "\n",
    "for i in range(len(run_names)):\n",
    "    run = runs[i]\n",
    "    num_images = len(run)\n",
    "    if i == 0 or i == 3:\n",
    "        freqs = np.linspace(0, 400, num_images)\n",
    "    else:\n",
    "        freqs = np.linspace(0, -400, num_images)\n",
    "\n",
    "    sig = np.empty(num_images)\n",
    "    for j in range(num_images):\n",
    "        times, pd_voltages = run[j]\n",
    "        min_index = np.where(times == 2)[0][0]\n",
    "        max_index = np.where(times == 10)[0][0]\n",
    "        max_index2 = np.where(times == 20)[0][0]\n",
    "        min_value = np.min(pd_voltages[min_index:max_index])\n",
    "        avg_value = np.mean(pd_voltages[:min_index])\n",
    "        signal = min_value - avg_value\n",
    "        sig[j] = signal\n",
    "    absorption[0][i] = freqs\n",
    "    absorption[1][i] = sig\n",
    "\n",
    "#dict3 is dict of {run names : absorption data} where absorption data is a list of lists containing frequency and absorption signal\n",
    "dict3 = {key: absorption for key in run_names} "
   ]
  },
  {
   "cell_type": "code",
   "execution_count": null,
   "metadata": {},
   "outputs": [],
   "source": [
    "#finally, stitch together runs 0 and 1, and runs 2 and 3, to get the full absorption spectrum\n"
   ]
  }
 ],
 "metadata": {
  "kernelspec": {
   "display_name": "base",
   "language": "python",
   "name": "python3"
  },
  "language_info": {
   "codemirror_mode": {
    "name": "ipython",
    "version": 3
   },
   "file_extension": ".py",
   "mimetype": "text/x-python",
   "name": "python",
   "nbconvert_exporter": "python",
   "pygments_lexer": "ipython3",
   "version": "3.9.13"
  }
 },
 "nbformat": 4,
 "nbformat_minor": 2
}
