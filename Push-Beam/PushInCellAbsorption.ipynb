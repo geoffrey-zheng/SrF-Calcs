{
 "cells": [
  {
   "cell_type": "code",
   "execution_count": null,
   "metadata": {},
   "outputs": [],
   "source": [
    "\"\"\"\n",
    "Analyze X-A push beam in-cell absorption data to confirm resonance frequency.\n",
    "\"\"\"\n",
    "\n",
    "import h5py\n",
    "import os\n",
    "import numpy as np\n",
    "\n",
    "\n",
    "#from entire data file, extract datasets for the runs we're interested in\n",
    "absolute_path = os.path.abspath('')\n",
    "rel_path = \"log_2024Feb19.hdf\" # in cell absorption data for push beam\n",
    "filename = os.path.join(absolute_path, rel_path)\n",
    "run_names = ['run17:10:54', 'run17:18:36', 'run17:24:41', 'run17:29:53'] #run names for EOM sidebands on and off\n",
    "\n",
    "#open file and process data\n",
    "with h5py.File(filename, 'r') as hdf:\n",
    "    dict1 = {key: hdf[key] for key in run_names if key in hdf} #reduced dict matching run name to run\n",
    "    runs = [None for _ in range(len(run_names))]\n",
    "    for key in dict1:\n",
    "        run = dict1[key]\n",
    "        num_images = len(run)\n",
    "        sorted_keys = sorted(run.keys(), key=int) #sort run keys by true numerical order (not \"string numerical\" order\")\n",
    "        \n",
    "        #run_shot is a list of the shots in each run in true numerical order. each shot is one absorption trace.\n",
    "        run_shot = [None for _ in range(num_images)]\n",
    "        for key2 in sorted_keys:\n",
    "            run_shot[int(key2)] = run[key2] \n",
    "        runs[run_names.index(key)] = run_shot\n",
    "\n",
    "    dict2 = {key: runs for key in run_names} #dict matching run name to list of shots in each run\n",
    "    print(dict2)"
   ]
  },
  {
   "cell_type": "code",
   "execution_count": null,
   "metadata": {},
   "outputs": [],
   "source": [
    "print(dict2)"
   ]
  },
  {
   "cell_type": "code",
   "execution_count": null,
   "metadata": {},
   "outputs": [],
   "source": []
  }
 ],
 "metadata": {
  "kernelspec": {
   "display_name": "base",
   "language": "python",
   "name": "python3"
  },
  "language_info": {
   "codemirror_mode": {
    "name": "ipython",
    "version": 3
   },
   "file_extension": ".py",
   "mimetype": "text/x-python",
   "name": "python",
   "nbconvert_exporter": "python",
   "pygments_lexer": "ipython3",
   "version": "3.9.7"
  }
 },
 "nbformat": 4,
 "nbformat_minor": 2
}
